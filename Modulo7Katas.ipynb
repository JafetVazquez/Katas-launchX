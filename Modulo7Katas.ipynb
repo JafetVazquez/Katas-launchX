{
 "cells": [
  {
   "cell_type": "markdown",
   "metadata": {},
   "source": [
    "# Bucle \"While\"\n",
    "\n",
    "# Ejercicio 1"
   ]
  },
  {
   "cell_type": "code",
   "execution_count": 20,
   "metadata": {},
   "outputs": [
    {
     "name": "stdout",
     "output_type": "stream",
     "text": [
      "Planetas ingresados:  ['', 'Tierra', 'Mercurio', 'Venus', 'Marte']\n"
     ]
    }
   ],
   "source": [
    "# Declaramos las variables\n",
    "planeta_in = ''\n",
    "planetas = []\n",
    "\n",
    "# Ciclo while solicitado\n",
    "while planeta_in != 'done':\n",
    "    planetas.append(planeta_in)\n",
    "    planeta_in = input('Ingresa un nuevo planeta (escribe \"done\" cuando termines)')\n",
    "print(\"Planetas ingresados: \", planetas)"
   ]
  },
  {
   "cell_type": "markdown",
   "metadata": {},
   "source": [
    "# Ejercicio 2"
   ]
  },
  {
   "cell_type": "code",
   "execution_count": 21,
   "metadata": {},
   "outputs": [
    {
     "name": "stdout",
     "output_type": "stream",
     "text": [
      "\n",
      "Tierra\n",
      "Mercurio\n",
      "Venus\n",
      "Marte\n"
     ]
    }
   ],
   "source": [
    "# Ciclo for para iterar en una lista de planetas\n",
    "\n",
    "for planeta in planetas:\n",
    "    print(planeta)"
   ]
  }
 ],
 "metadata": {
  "interpreter": {
   "hash": "5028dd269c84411ba29d7810b380b926490729c25bc5eae4be143439412dbed1"
  },
  "kernelspec": {
   "display_name": "Python 3.10.1 64-bit",
   "language": "python",
   "name": "python3"
  },
  "language_info": {
   "codemirror_mode": {
    "name": "ipython",
    "version": 3
   },
   "file_extension": ".py",
   "mimetype": "text/x-python",
   "name": "python",
   "nbconvert_exporter": "python",
   "pygments_lexer": "ipython3",
   "version": "3.10.1"
  },
  "orig_nbformat": 4
 },
 "nbformat": 4,
 "nbformat_minor": 2
}
