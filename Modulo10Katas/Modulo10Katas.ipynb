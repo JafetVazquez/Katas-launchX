{
 "cells": [
  {
   "cell_type": "markdown",
   "metadata": {},
   "source": [
    "# Manejo de Errores"
   ]
  },
  {
   "cell_type": "code",
   "execution_count": 4,
   "metadata": {},
   "outputs": [
    {
     "ename": "FileNotFoundError",
     "evalue": "[Errno 2] No such file or directory: '/path/to/mars.jpg'",
     "output_type": "error",
     "traceback": [
      "\u001b[1;31m---------------------------------------------------------------------------\u001b[0m",
      "\u001b[1;31mFileNotFoundError\u001b[0m                         Traceback (most recent call last)",
      "\u001b[1;32mc:\\Users\\Usuario\\Documents\\programacion\\python\\Modulo10Katas.ipynb Cell 2'\u001b[0m in \u001b[0;36m<module>\u001b[1;34m\u001b[0m\n\u001b[0;32m      <a href='vscode-notebook-cell:/c%3A/Users/Usuario/Documents/programacion/python/Modulo10Katas.ipynb#ch0000002?line=1'>2</a>\u001b[0m     \u001b[39mopen\u001b[39m(\u001b[39m\"\u001b[39m\u001b[39m/path/to/mars.jpg\u001b[39m\u001b[39m\"\u001b[39m)\n\u001b[0;32m      <a href='vscode-notebook-cell:/c%3A/Users/Usuario/Documents/programacion/python/Modulo10Katas.ipynb#ch0000002?line=3'>4</a>\u001b[0m \u001b[39mif\u001b[39;00m \u001b[39m__name__\u001b[39m \u001b[39m==\u001b[39m \u001b[39m'\u001b[39m\u001b[39m__main__\u001b[39m\u001b[39m'\u001b[39m:\n\u001b[1;32m----> <a href='vscode-notebook-cell:/c%3A/Users/Usuario/Documents/programacion/python/Modulo10Katas.ipynb#ch0000002?line=4'>5</a>\u001b[0m     main()\n",
      "\u001b[1;32mc:\\Users\\Usuario\\Documents\\programacion\\python\\Modulo10Katas.ipynb Cell 2'\u001b[0m in \u001b[0;36mmain\u001b[1;34m()\u001b[0m\n\u001b[0;32m      <a href='vscode-notebook-cell:/c%3A/Users/Usuario/Documents/programacion/python/Modulo10Katas.ipynb#ch0000002?line=0'>1</a>\u001b[0m \u001b[39mdef\u001b[39;00m \u001b[39mmain\u001b[39m():\n\u001b[1;32m----> <a href='vscode-notebook-cell:/c%3A/Users/Usuario/Documents/programacion/python/Modulo10Katas.ipynb#ch0000002?line=1'>2</a>\u001b[0m     \u001b[39mopen\u001b[39;49m(\u001b[39m\"\u001b[39;49m\u001b[39m/path/to/mars.jpg\u001b[39;49m\u001b[39m\"\u001b[39;49m)\n",
      "\u001b[1;31mFileNotFoundError\u001b[0m: [Errno 2] No such file or directory: '/path/to/mars.jpg'"
     ]
    }
   ],
   "source": [
    "def main():\n",
    "    open(\"/path/to/mars.jpg\")\n",
    "\n",
    "if __name__ == '__main__':\n",
    "    main()"
   ]
  },
  {
   "cell_type": "code",
   "execution_count": 7,
   "metadata": {},
   "outputs": [
    {
     "name": "stdout",
     "output_type": "stream",
     "text": [
      "No se encuentra el archivo solicitado!!!\n"
     ]
    }
   ],
   "source": [
    "try:\n",
    "    open('config.txt')\n",
    "except  FileNotFoundError:\n",
    "    print('No se encuentra el archivo solicitado!!!')"
   ]
  },
  {
   "cell_type": "code",
   "execution_count": 3,
   "metadata": {},
   "outputs": [
    {
     "name": "stdout",
     "output_type": "stream",
     "text": [
      "No se encuentra el archivo solicitado!!!\n"
     ]
    }
   ],
   "source": [
    "def main():\n",
    "    try:\n",
    "        config = open('config.txt')\n",
    "    except Exception:\n",
    "        print(\"No se encuentra el archivo solicitado!!!\")\n",
    "\n",
    "\n",
    "if __name__ == '__main__':\n",
    "    main()"
   ]
  },
  {
   "cell_type": "code",
   "execution_count": 4,
   "metadata": {},
   "outputs": [],
   "source": [
    "def main():\n",
    "    try:\n",
    "        config = open('config.txt')\n",
    "    except FileNotFoundError:\n",
    "        print(\"Archivo no encontrado!!!\")\n",
    "    except IsADirectoryError:\n",
    "        print(\"Archivo encontrado, pero no se puede leer!\")"
   ]
  },
  {
   "cell_type": "code",
   "execution_count": 5,
   "metadata": {},
   "outputs": [],
   "source": [
    "def main():\n",
    "    try:\n",
    "        config = open('config.txt')\n",
    "    except FileNotFoundError:\n",
    "        print(\"Archivo no encontrado!\")\n",
    "    except IsADirectoryError:\n",
    "        print(\"Archivo encontrado, pero no se puede leer!\")"
   ]
  },
  {
   "cell_type": "code",
   "execution_count": 6,
   "metadata": {},
   "outputs": [],
   "source": [
    "def main():\n",
    "    try:\n",
    "        config = open('config.txt')\n",
    "    except FileNotFoundError:\n",
    "        print(\"Archivo no encontrado!!!\")\n",
    "    except IsADirectoryError:\n",
    "        print(\"Archivo encontrado, pero no se puede leer!\")\n",
    "    except (BlockingIOError, TimeoutError):\n",
    "        print(\"El sistema está sobrecargado, acción de leer incompleta\")"
   ]
  },
  {
   "cell_type": "markdown",
   "metadata": {},
   "source": [
    "# Generación de Excepciones"
   ]
  },
  {
   "cell_type": "code",
   "execution_count": 9,
   "metadata": {},
   "outputs": [
    {
     "ename": "RuntimeError",
     "evalue": "No habrá suficiente agua para 5 astronautas después 2 días!!!",
     "output_type": "error",
     "traceback": [
      "\u001b[1;31m---------------------------------------------------------------------------\u001b[0m",
      "\u001b[1;31mRuntimeError\u001b[0m                              Traceback (most recent call last)",
      "\u001b[1;32mc:\\Users\\Usuario\\Documents\\programacion\\python\\Modulo10Katas.ipynb Cell 9'\u001b[0m in \u001b[0;36m<module>\u001b[1;34m\u001b[0m\n\u001b[1;32m----> <a href='vscode-notebook-cell:/c%3A/Users/Usuario/Documents/programacion/python/Modulo10Katas.ipynb#ch0000008?line=0'>1</a>\u001b[0m agua_res(\u001b[39m5\u001b[39;49m, \u001b[39m100\u001b[39;49m, \u001b[39m2\u001b[39;49m)\n\u001b[0;32m      <a href='vscode-notebook-cell:/c%3A/Users/Usuario/Documents/programacion/python/Modulo10Katas.ipynb#ch0000008?line=2'>3</a>\u001b[0m \u001b[39mdef\u001b[39;00m \u001b[39magua_res\u001b[39m(astronautas, agua_res, dias_res):\n\u001b[0;32m      <a href='vscode-notebook-cell:/c%3A/Users/Usuario/Documents/programacion/python/Modulo10Katas.ipynb#ch0000008?line=3'>4</a>\u001b[0m     uso_diario \u001b[39m=\u001b[39m astronautas \u001b[39m*\u001b[39m \u001b[39m11\u001b[39m\n",
      "\u001b[1;32mc:\\Users\\Usuario\\Documents\\programacion\\python\\Modulo10Katas.ipynb Cell 9'\u001b[0m in \u001b[0;36magua_res\u001b[1;34m(astronautas, agua_res, dias_res)\u001b[0m\n\u001b[0;32m      <a href='vscode-notebook-cell:/c%3A/Users/Usuario/Documents/programacion/python/Modulo10Katas.ipynb#ch0000008?line=3'>4</a>\u001b[0m agua_tot_res \u001b[39m=\u001b[39m agua_res \u001b[39m-\u001b[39m uso_total\n\u001b[0;32m      <a href='vscode-notebook-cell:/c%3A/Users/Usuario/Documents/programacion/python/Modulo10Katas.ipynb#ch0000008?line=4'>5</a>\u001b[0m \u001b[39mif\u001b[39;00m agua_tot_res \u001b[39m<\u001b[39m \u001b[39m0\u001b[39m:\n\u001b[1;32m----> <a href='vscode-notebook-cell:/c%3A/Users/Usuario/Documents/programacion/python/Modulo10Katas.ipynb#ch0000008?line=5'>6</a>\u001b[0m     \u001b[39mraise\u001b[39;00m \u001b[39mRuntimeError\u001b[39;00m(\u001b[39mf\u001b[39m\u001b[39m\"\u001b[39m\u001b[39mNo habrá suficiente agua para \u001b[39m\u001b[39m{\u001b[39;00mastronautas\u001b[39m}\u001b[39;00m\u001b[39m astronautas después \u001b[39m\u001b[39m{\u001b[39;00mdias_res\u001b[39m}\u001b[39;00m\u001b[39m días!!!\u001b[39m\u001b[39m\"\u001b[39m)\n\u001b[0;32m      <a href='vscode-notebook-cell:/c%3A/Users/Usuario/Documents/programacion/python/Modulo10Katas.ipynb#ch0000008?line=6'>7</a>\u001b[0m \u001b[39mreturn\u001b[39;00m \u001b[39mf\u001b[39m\u001b[39m\"\u001b[39m\u001b[39mEl total de agua restante despues \u001b[39m\u001b[39m{\u001b[39;00mdias_res\u001b[39m}\u001b[39;00m\u001b[39m días es: \u001b[39m\u001b[39m{\u001b[39;00magua_tot_res\u001b[39m}\u001b[39;00m\u001b[39m litros\u001b[39m\u001b[39m\"\u001b[39m\n",
      "\u001b[1;31mRuntimeError\u001b[0m: No habrá suficiente agua para 5 astronautas después 2 días!!!"
     ]
    }
   ],
   "source": [
    "agua_res(5, 100, 2)\n",
    "\n",
    "def agua_res(astronautas, agua_res, dias_res):\n",
    "    uso_diario = astronautas * 11\n",
    "    uso_total = uso_diario * dias_res\n",
    "    agua_tot_res = agua_res - uso_total\n",
    "    if agua_tot_res < 0:\n",
    "        raise RuntimeError(f\"No habrá suficiente agua para {astronautas} astronautas después {dias_res} días!!!\")\n",
    "    return f\"El total de agua restante despues {dias_res} días es: {agua_tot_res} litros\""
   ]
  },
  {
   "cell_type": "code",
   "execution_count": 11,
   "metadata": {},
   "outputs": [
    {
     "ename": "RuntimeError",
     "evalue": "No habrá suficiente agua para 5 astronautas después 2 días!!!",
     "output_type": "error",
     "traceback": [
      "\u001b[1;31m---------------------------------------------------------------------------\u001b[0m",
      "\u001b[1;31mRuntimeError\u001b[0m                              Traceback (most recent call last)",
      "\u001b[1;32mc:\\Users\\Usuario\\Documents\\programacion\\python\\Modulo10Katas.ipynb Cell 10'\u001b[0m in \u001b[0;36m<module>\u001b[1;34m\u001b[0m\n\u001b[1;32m----> <a href='vscode-notebook-cell:/c%3A/Users/Usuario/Documents/programacion/python/Modulo10Katas.ipynb#ch0000009?line=0'>1</a>\u001b[0m agua_res(\u001b[39m5\u001b[39;49m, \u001b[39m100\u001b[39;49m, \u001b[39m2\u001b[39;49m)\n\u001b[0;32m      <a href='vscode-notebook-cell:/c%3A/Users/Usuario/Documents/programacion/python/Modulo10Katas.ipynb#ch0000009?line=2'>3</a>\u001b[0m \u001b[39mdef\u001b[39;00m \u001b[39magua_res\u001b[39m(astronautas, agua_res, dias_res):\n\u001b[0;32m      <a href='vscode-notebook-cell:/c%3A/Users/Usuario/Documents/programacion/python/Modulo10Katas.ipynb#ch0000009?line=3'>4</a>\u001b[0m     uso_diario \u001b[39m=\u001b[39m astronautas \u001b[39m*\u001b[39m \u001b[39m11\u001b[39m\n",
      "\u001b[1;32mc:\\Users\\Usuario\\Documents\\programacion\\python\\Modulo10Katas.ipynb Cell 9'\u001b[0m in \u001b[0;36magua_res\u001b[1;34m(astronautas, agua_res, dias_res)\u001b[0m\n\u001b[0;32m      <a href='vscode-notebook-cell:/c%3A/Users/Usuario/Documents/programacion/python/Modulo10Katas.ipynb#ch0000008?line=3'>4</a>\u001b[0m agua_tot_res \u001b[39m=\u001b[39m agua_res \u001b[39m-\u001b[39m uso_total\n\u001b[0;32m      <a href='vscode-notebook-cell:/c%3A/Users/Usuario/Documents/programacion/python/Modulo10Katas.ipynb#ch0000008?line=4'>5</a>\u001b[0m \u001b[39mif\u001b[39;00m agua_tot_res \u001b[39m<\u001b[39m \u001b[39m0\u001b[39m:\n\u001b[1;32m----> <a href='vscode-notebook-cell:/c%3A/Users/Usuario/Documents/programacion/python/Modulo10Katas.ipynb#ch0000008?line=5'>6</a>\u001b[0m     \u001b[39mraise\u001b[39;00m \u001b[39mRuntimeError\u001b[39;00m(\u001b[39mf\u001b[39m\u001b[39m\"\u001b[39m\u001b[39mNo habrá suficiente agua para \u001b[39m\u001b[39m{\u001b[39;00mastronautas\u001b[39m}\u001b[39;00m\u001b[39m astronautas después \u001b[39m\u001b[39m{\u001b[39;00mdias_res\u001b[39m}\u001b[39;00m\u001b[39m días!!!\u001b[39m\u001b[39m\"\u001b[39m)\n\u001b[0;32m      <a href='vscode-notebook-cell:/c%3A/Users/Usuario/Documents/programacion/python/Modulo10Katas.ipynb#ch0000008?line=6'>7</a>\u001b[0m \u001b[39mreturn\u001b[39;00m \u001b[39mf\u001b[39m\u001b[39m\"\u001b[39m\u001b[39mEl total de agua restante despues \u001b[39m\u001b[39m{\u001b[39;00mdias_res\u001b[39m}\u001b[39;00m\u001b[39m días es: \u001b[39m\u001b[39m{\u001b[39;00magua_tot_res\u001b[39m}\u001b[39;00m\u001b[39m litros\u001b[39m\u001b[39m\"\u001b[39m\n",
      "\u001b[1;31mRuntimeError\u001b[0m: No habrá suficiente agua para 5 astronautas después 2 días!!!"
     ]
    }
   ],
   "source": [
    "agua_res(5, 100, 2)\n",
    "\n",
    "def agua_res(astronautas, agua_res, dias_res):\n",
    "    uso_diario = astronautas * 11\n",
    "    uso_total = uso_diario * dias_res\n",
    "    agua_tot_res = agua_res - uso_total\n",
    "    if agua_tot_res < 0:\n",
    "        raise RuntimeError(f\"No habrá suficiente agua para {astronautas} astronautas después {dias_res} días!!!\")\n",
    "    return f\"El total de agua restante despues {dias_res} días es: {agua_tot_res} litros\"\n",
    "\n",
    "try:\n",
    "    agua_res(5, 100, 2)\n",
    "except RuntimeError as err:\n",
    "    alerta_sistema(err)"
   ]
  },
  {
   "cell_type": "code",
   "execution_count": 13,
   "metadata": {},
   "outputs": [
    {
     "ename": "TypeError",
     "evalue": "Todos los argumentos deben de ser tipo 'int', pero recibió: '3'",
     "output_type": "error",
     "traceback": [
      "\u001b[1;31m---------------------------------------------------------------------------\u001b[0m",
      "\u001b[1;31mTypeError\u001b[0m                                 Traceback (most recent call last)",
      "\u001b[1;32mc:\\Users\\Usuario\\Documents\\programacion\\python\\Modulo10Katas.ipynb Cell 11'\u001b[0m in \u001b[0;36magua_res\u001b[1;34m(astronautas, agua_res, dias_res)\u001b[0m\n\u001b[0;32m      <a href='vscode-notebook-cell:/c%3A/Users/Usuario/Documents/programacion/python/Modulo10Katas.ipynb#ch0000010?line=2'>3</a>\u001b[0m \u001b[39mtry\u001b[39;00m:\n\u001b[0;32m      <a href='vscode-notebook-cell:/c%3A/Users/Usuario/Documents/programacion/python/Modulo10Katas.ipynb#ch0000010?line=3'>4</a>\u001b[0m     \u001b[39m#funcionará si el argumento es int\u001b[39;00m\n\u001b[1;32m----> <a href='vscode-notebook-cell:/c%3A/Users/Usuario/Documents/programacion/python/Modulo10Katas.ipynb#ch0000010?line=4'>5</a>\u001b[0m     argument \u001b[39m/\u001b[39;49m \u001b[39m10\u001b[39;49m\n\u001b[0;32m      <a href='vscode-notebook-cell:/c%3A/Users/Usuario/Documents/programacion/python/Modulo10Katas.ipynb#ch0000010?line=5'>6</a>\u001b[0m \u001b[39mexcept\u001b[39;00m \u001b[39mTypeError\u001b[39;00m:\n\u001b[0;32m      <a href='vscode-notebook-cell:/c%3A/Users/Usuario/Documents/programacion/python/Modulo10Katas.ipynb#ch0000010?line=6'>7</a>\u001b[0m     \u001b[39m#solo mostrará el error si este no es un tipo correcto con un mejor mensaje\u001b[39;00m\n",
      "\u001b[1;31mTypeError\u001b[0m: unsupported operand type(s) for /: 'str' and 'int'",
      "\nDuring handling of the above exception, another exception occurred:\n",
      "\u001b[1;31mTypeError\u001b[0m                                 Traceback (most recent call last)",
      "\u001b[1;32mc:\\Users\\Usuario\\Documents\\programacion\\python\\Modulo10Katas.ipynb Cell 11'\u001b[0m in \u001b[0;36m<module>\u001b[1;34m\u001b[0m\n\u001b[0;32m     <a href='vscode-notebook-cell:/c%3A/Users/Usuario/Documents/programacion/python/Modulo10Katas.ipynb#ch0000010?line=12'>13</a>\u001b[0m         \u001b[39mraise\u001b[39;00m \u001b[39mRuntimeError\u001b[39;00m(\u001b[39mf\u001b[39m\u001b[39m\"\u001b[39m\u001b[39mNo habrá suficiente agua para \u001b[39m\u001b[39m{\u001b[39;00mastronautas\u001b[39m}\u001b[39;00m\u001b[39m astronautas después \u001b[39m\u001b[39m{\u001b[39;00mdias_res\u001b[39m}\u001b[39;00m\u001b[39m días!!!\u001b[39m\u001b[39m\"\u001b[39m)\n\u001b[0;32m     <a href='vscode-notebook-cell:/c%3A/Users/Usuario/Documents/programacion/python/Modulo10Katas.ipynb#ch0000010?line=13'>14</a>\u001b[0m     \u001b[39mreturn\u001b[39;00m \u001b[39mf\u001b[39m\u001b[39m\"\u001b[39m\u001b[39mEl total de agua restante despues \u001b[39m\u001b[39m{\u001b[39;00mdias_res\u001b[39m}\u001b[39;00m\u001b[39m días es: \u001b[39m\u001b[39m{\u001b[39;00magua_tot_res\u001b[39m}\u001b[39;00m\u001b[39m litros\u001b[39m\u001b[39m\"\u001b[39m\n\u001b[1;32m---> <a href='vscode-notebook-cell:/c%3A/Users/Usuario/Documents/programacion/python/Modulo10Katas.ipynb#ch0000010?line=15'>16</a>\u001b[0m agua_res(\u001b[39m\"\u001b[39;49m\u001b[39m3\u001b[39;49m\u001b[39m\"\u001b[39;49m, \u001b[39m\"\u001b[39;49m\u001b[39m200\u001b[39;49m\u001b[39m\"\u001b[39;49m, \u001b[39mNone\u001b[39;49;00m)\n",
      "\u001b[1;32mc:\\Users\\Usuario\\Documents\\programacion\\python\\Modulo10Katas.ipynb Cell 11'\u001b[0m in \u001b[0;36magua_res\u001b[1;34m(astronautas, agua_res, dias_res)\u001b[0m\n\u001b[0;32m      <a href='vscode-notebook-cell:/c%3A/Users/Usuario/Documents/programacion/python/Modulo10Katas.ipynb#ch0000010?line=4'>5</a>\u001b[0m         argument \u001b[39m/\u001b[39m \u001b[39m10\u001b[39m\n\u001b[0;32m      <a href='vscode-notebook-cell:/c%3A/Users/Usuario/Documents/programacion/python/Modulo10Katas.ipynb#ch0000010?line=5'>6</a>\u001b[0m     \u001b[39mexcept\u001b[39;00m \u001b[39mTypeError\u001b[39;00m:\n\u001b[0;32m      <a href='vscode-notebook-cell:/c%3A/Users/Usuario/Documents/programacion/python/Modulo10Katas.ipynb#ch0000010?line=6'>7</a>\u001b[0m         \u001b[39m#solo mostrará el error si este no es un tipo correcto con un mejor mensaje\u001b[39;00m\n\u001b[1;32m----> <a href='vscode-notebook-cell:/c%3A/Users/Usuario/Documents/programacion/python/Modulo10Katas.ipynb#ch0000010?line=7'>8</a>\u001b[0m         \u001b[39mraise\u001b[39;00m \u001b[39mTypeError\u001b[39;00m(\u001b[39mf\u001b[39m\u001b[39m\"\u001b[39m\u001b[39mTodos los argumentos deben de ser tipo \u001b[39m\u001b[39m'\u001b[39m\u001b[39mint\u001b[39m\u001b[39m'\u001b[39m\u001b[39m, pero recibió: \u001b[39m\u001b[39m'\u001b[39m\u001b[39m{\u001b[39;00margument\u001b[39m}\u001b[39;00m\u001b[39m'\u001b[39m\u001b[39m\"\u001b[39m)\n\u001b[0;32m      <a href='vscode-notebook-cell:/c%3A/Users/Usuario/Documents/programacion/python/Modulo10Katas.ipynb#ch0000010?line=8'>9</a>\u001b[0m uso_diario \u001b[39m=\u001b[39m astronautas \u001b[39m*\u001b[39m \u001b[39m11\u001b[39m\n\u001b[0;32m     <a href='vscode-notebook-cell:/c%3A/Users/Usuario/Documents/programacion/python/Modulo10Katas.ipynb#ch0000010?line=9'>10</a>\u001b[0m uso_total \u001b[39m=\u001b[39m uso_diario \u001b[39m*\u001b[39m dias_res\n",
      "\u001b[1;31mTypeError\u001b[0m: Todos los argumentos deben de ser tipo 'int', pero recibió: '3'"
     ]
    }
   ],
   "source": [
    "def agua_res(astronautas, agua_res, dias_res):\n",
    "    for argument in [astronautas, agua_res, dias_res]:\n",
    "        try:\n",
    "            #funcionará si el argumento es int\n",
    "            argument / 10\n",
    "        except TypeError:\n",
    "            #solo mostrará el error si este no es un tipo correcto con un mejor mensaje\n",
    "            raise TypeError(f\"Todos los argumentos deben de ser tipo 'int', pero recibió: '{argument}'\")\n",
    "    uso_diario = astronautas * 11\n",
    "    uso_total = uso_diario * dias_res\n",
    "    agua_tot_res = agua_res - uso_total\n",
    "    if agua_tot_res < 0:\n",
    "        raise RuntimeError(f\"No habrá suficiente agua para {astronautas} astronautas después {dias_res} días!!!\")\n",
    "    return f\"El total de agua restante despues {dias_res} días es: {agua_tot_res} litros\"\n",
    "\n",
    "agua_res(\"3\", \"200\", None)    "
   ]
  }
 ],
 "metadata": {
  "interpreter": {
   "hash": "5028dd269c84411ba29d7810b380b926490729c25bc5eae4be143439412dbed1"
  },
  "kernelspec": {
   "display_name": "Python 3.10.1 64-bit",
   "language": "python",
   "name": "python3"
  },
  "language_info": {
   "codemirror_mode": {
    "name": "ipython",
    "version": 3
   },
   "file_extension": ".py",
   "mimetype": "text/x-python",
   "name": "python",
   "nbconvert_exporter": "python",
   "pygments_lexer": "ipython3",
   "version": "3.10.1"
  },
  "orig_nbformat": 4
 },
 "nbformat": 4,
 "nbformat_minor": 2
}
