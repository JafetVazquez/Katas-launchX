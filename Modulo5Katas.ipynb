{
 "cells": [
  {
   "cell_type": "markdown",
   "metadata": {},
   "source": [
    "# Operadores Aritméticos\n",
    "# Ejercicio 1"
   ]
  },
  {
   "cell_type": "code",
   "execution_count": 6,
   "metadata": {},
   "outputs": [
    {
     "name": "stdout",
     "output_type": "stream",
     "text": [
      "628949330\n",
      "390577533.93\n"
     ]
    }
   ],
   "source": [
    "# Variables para almacenar las dos distancias\n",
    "Tierra = 149597870\n",
    "Jupiter = 778547200\n",
    "\n",
    "# Calcular distancia entre planetas\n",
    "print(abs(Tierra - Jupiter))\n",
    "\n",
    "# Distancia en Millas\n",
    "print(abs(Tierra - Jupiter)*0.621)"
   ]
  },
  {
   "cell_type": "markdown",
   "metadata": {},
   "source": [
    "# Ejercicio 2"
   ]
  },
  {
   "cell_type": "code",
   "execution_count": 14,
   "metadata": {},
   "outputs": [
    {
     "name": "stdout",
     "output_type": "stream",
     "text": [
      "2644600000\n",
      "1642296600.0\n"
     ]
    }
   ],
   "source": [
    "# Entradas del usuario\n",
    "distancia1 = input('Introduzca la distancia del Sol al primer planeta en KM')\n",
    "distancia2 = input('Introduzca la distancia del segundo planeta (respecto al Sol) en KM')\n",
    "\n",
    "# Convertir a número\n",
    "distancia1 = int(distancia1)\n",
    "distancia2 = int(distancia2)\n",
    "\n",
    "# Cálculo del valor absoluto\n",
    "distanciaKM = distancia2 - distancia1\n",
    "print(abs(distanciaKM))\n",
    "\n",
    "# Convertir los KM a Millas\n",
    "distanciaMI = (distancia2 - distancia1)*0.621\n",
    "print(abs(distanciaMI))"
   ]
  }
 ],
 "metadata": {
  "interpreter": {
   "hash": "5028dd269c84411ba29d7810b380b926490729c25bc5eae4be143439412dbed1"
  },
  "kernelspec": {
   "display_name": "Python 3.10.1 64-bit",
   "language": "python",
   "name": "python3"
  },
  "language_info": {
   "codemirror_mode": {
    "name": "ipython",
    "version": 3
   },
   "file_extension": ".py",
   "mimetype": "text/x-python",
   "name": "python",
   "nbconvert_exporter": "python",
   "pygments_lexer": "ipython3",
   "version": "3.10.1"
  },
  "orig_nbformat": 4
 },
 "nbformat": 4,
 "nbformat_minor": 2
}
