{
 "cells": [
  {
   "cell_type": "markdown",
   "metadata": {},
   "source": [
    "# Declaraciones if, else y elif\n"
   ]
  },
  {
   "cell_type": "code",
   "execution_count": 19,
   "metadata": {},
   "outputs": [
    {
     "name": "stdout",
     "output_type": "stream",
     "text": [
      "El asteroide se acerca a una velocidad de: 49km/s, ¡ES UNA AMENAZA!\n"
     ]
    }
   ],
   "source": [
    "# Añadir el código necesario para crear una variable que guarde la velocidad del asteroide.\n",
    "# Escribe una expresión de prueba para calcular si necesita una advertencia.\n",
    "# Agregue las instrucciones que se ejecutarán si la expresión de prueba es true o false.\n",
    "\n",
    "velo_ast = 49\n",
    "\n",
    "if velo_ast > 25:\n",
    "    print(\"El asteroide se acerca a una velocidad de: \" + str(velo_ast) + \"km/s, ¡ES UNA AMENAZA!\")"
   ]
  },
  {
   "cell_type": "code",
   "execution_count": 20,
   "metadata": {},
   "outputs": [
    {
     "name": "stdout",
     "output_type": "stream",
     "text": [
      "El rayo no será visible desde la tierra\n"
     ]
    }
   ],
   "source": [
    "# Agrega el código para crear una variable para un asteroide que viaja a 19 km/s\n",
    "# Escribe varias expresiones de prueba para determinar si puedes ver el rayo de luz desde la tierra\n",
    "# Agrega las instrucciones que se ejecutarán si las expresiones de prueba son True o False\n",
    "\n",
    "ast = 19\n",
    "\n",
    "if ast >= 20:\n",
    "    print(\"¡Busca un asteroide en el cielo!, se producirá un rayo visible desde la tierra\")\n",
    "else:\n",
    "    print(\"El rayo no será visible desde la tierra\")"
   ]
  },
  {
   "cell_type": "markdown",
   "metadata": {},
   "source": [
    "# Uso de operadores and y or"
   ]
  },
  {
   "cell_type": "code",
   "execution_count": 36,
   "metadata": {},
   "outputs": [
    {
     "name": "stdout",
     "output_type": "stream",
     "text": [
      "¡¡¡El asteroide es peligroso!!!, se está acercando a la Tierra\n"
     ]
    }
   ],
   "source": [
    "# Agrega el código para crear nuevas variables para la velocidad y el tamaño del asteroide\n",
    "# Para probar el código, prueba con varias velocidades y tamaños\n",
    "# Escribe varias expresiones de prueba o combinaciones de expresiones de prueba para determinar qué mensaje se debe enviar a Tierra.\n",
    "\n",
    "vel_ast2 = 30\n",
    "tam_ast = 40\n",
    "\n",
    "#if (vel_ast2 >= 25) or (tam_ast >= 25 < 1000):\n",
    "if (vel_ast2 and tam_ast) > 25:\n",
    "    print(\"¡¡¡El asteroide es peligroso!!!, se está acercando a la Tierra\")\n",
    "elif vel_ast2 >= 20:\n",
    "    print(\"Mira el cielo, tal vez se produzca un rayo...\")\n",
    "elif tam_ast < 25:\n",
    "    print(\"El rayo no podrá ser visto desde la Tierra\")\n",
    "else:\n",
    "    print(\"No hay problemas por aquí\")\n"
   ]
  }
 ],
 "metadata": {
  "interpreter": {
   "hash": "5028dd269c84411ba29d7810b380b926490729c25bc5eae4be143439412dbed1"
  },
  "kernelspec": {
   "display_name": "Python 3.10.1 64-bit",
   "language": "python",
   "name": "python3"
  },
  "language_info": {
   "codemirror_mode": {
    "name": "ipython",
    "version": 3
   },
   "file_extension": ".py",
   "mimetype": "text/x-python",
   "name": "python",
   "nbconvert_exporter": "python",
   "pygments_lexer": "ipython3",
   "version": "3.10.1"
  },
  "orig_nbformat": 4
 },
 "nbformat": 4,
 "nbformat_minor": 2
}
