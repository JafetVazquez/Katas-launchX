{
 "cells": [
  {
   "cell_type": "markdown",
   "metadata": {},
   "source": [
    "# Funciones\n",
    "\n",
    "# Ejercicio 1"
   ]
  },
  {
   "cell_type": "code",
   "execution_count": 4,
   "metadata": {},
   "outputs": [
    {
     "name": "stdout",
     "output_type": "stream",
     "text": [
      "Reporte:\n",
      "    Promedio total: 32.666666666666664%\n",
      "    Tanque principal: 20%\n",
      "    Tanque secundario: 35%\n",
      "    Tercer tanque: 43%\n",
      "[46, 36, 42]\n"
     ]
    }
   ],
   "source": [
    "# Función para leer 3 tanques de combustible y muestre el promedio\n",
    "def tanques(tanque_prin, tanque_secun, otro_tanque):\n",
    "    promedio = (tanque_prin + tanque_secun + otro_tanque)/3\n",
    "    return (f\"\"\"Reporte:\n",
    "    Promedio total: {promedio}%\n",
    "    Tanque principal: {tanque_prin}%\n",
    "    Tanque secundario: {tanque_secun}%\n",
    "    Tercer tanque: {otro_tanque}%\"\"\")\n",
    "\n",
    "# Generar reporte con print\n",
    "print(tanques(20, 35, 43))\n",
    "\n",
    "# Función promedio\n",
    "def prom(values):\n",
    "    total = sum(values)\n",
    "    no_tanques = len(values)\n",
    "    return total/no_tanques\n",
    "prom([35, 13, 49])\n",
    "\n",
    "\n",
    "# Actualización de función\n",
    "def tanques(tanque_prin, tanque_secun, otro_tanque):\n",
    "    return (f\"\"\"Reporte:\n",
    "    Promedio total: {prom([tanque_prin + tanque_secun + otro_tanque])}%\n",
    "    Tanque principal: {tanque_prin}%\n",
    "    Tanque secundario: {tanque_secun}%\n",
    "    Tercer tanque: {otro_tanque}%\"\"\")\n",
    "\n",
    "# Llamamos a la función de actualización\n",
    "print([46, 36, 42])"
   ]
  },
  {
   "cell_type": "markdown",
   "metadata": {},
   "source": [
    "# Ejercicio 2"
   ]
  },
  {
   "cell_type": "code",
   "execution_count": 36,
   "metadata": {},
   "outputs": [
    {
     "name": "stdout",
     "output_type": "stream",
     "text": [
      "\n",
      "    Misión hacia: Luna\n",
      "    Tiempo de vuelo total: 100 minutos\n",
      "    Combustible restante: 750000 galones\n",
      "\n",
      "    Misión hacia: Luna\n",
      "    Tiempo de vuelo total: 95 minutos\n",
      "    Combustible restante: 750000 galones\n"
     ]
    }
   ],
   "source": [
    "# Función con informe preciso (Considerando hora de prelanzamiento, tiempo de vuelo, destino, tanque externo y tanque interno)\n",
    "def reporte_mision(prelanzamiento, vuelo, destino, tanque_externo, tanque_interno):\n",
    "    return (f\"\"\"\n",
    "    Misión hacia: {destino}\n",
    "    Tiempo de vuelo total: {prelanzamiento + vuelo} minutos\n",
    "    Combustible restante: {tanque_interno + tanque_externo} galones\"\"\")\n",
    "\n",
    "print(reporte_mision(65, 35, \"Luna\", 430000, 320000))\n",
    "\n",
    "# Nueva función de reporte\n",
    "def reporte_mision(destino, *minutos, **reserva):\n",
    "    return f\"\"\"\n",
    "    Misión hacia: {destino}\n",
    "    Tiempo de vuelo total: {sum(minutos)} minutos\n",
    "    Combustible restante: {sum(reserva.values())} galones\"\"\"\n",
    "\n",
    "print(reporte_mision(\"Luna\", 34, 16, 45, interno = 320000, externo = 430000))\n",
    "\n",
    "\n"
   ]
  },
  {
   "cell_type": "code",
   "execution_count": 39,
   "metadata": {},
   "outputs": [
    {
     "name": "stdout",
     "output_type": "stream",
     "text": [
      "\n",
      "    Misión hacia: Luna\n",
      "    Tiempo de vuelo total: 70 minutos\n",
      "    Combustible restante: 750000 galones interno tanque --> 320000 galones restan externo tanque --> 430000 galones restan \n"
     ]
    }
   ],
   "source": [
    "# Nueva función\n",
    "def repor_mision(destino, *minutos, **reserva):\n",
    "    reporte_principal = (f\"\"\"\n",
    "    Misión hacia: {destino}\n",
    "    Tiempo de vuelo total: {sum(minutos)} minutos\n",
    "    Combustible restante: {sum(reserva.values())} galones \"\"\")\n",
    "\n",
    "    for nombre_tanque, galones in reserva.items():\n",
    "        reporte_principal += f\"{nombre_tanque} tanque --> {galones} galones restan \"\n",
    "    return reporte_principal\n",
    "\n",
    "print(repor_mision(\"Luna\", 42, 8, 20, interno = 320000, externo = 430000))"
   ]
  }
 ],
 "metadata": {
  "interpreter": {
   "hash": "5028dd269c84411ba29d7810b380b926490729c25bc5eae4be143439412dbed1"
  },
  "kernelspec": {
   "display_name": "Python 3.10.1 64-bit",
   "language": "python",
   "name": "python3"
  },
  "language_info": {
   "codemirror_mode": {
    "name": "ipython",
    "version": 3
   },
   "file_extension": ".py",
   "mimetype": "text/x-python",
   "name": "python",
   "nbconvert_exporter": "python",
   "pygments_lexer": "ipython3",
   "version": "3.10.1"
  },
  "orig_nbformat": 4
 },
 "nbformat": 4,
 "nbformat_minor": 2
}
