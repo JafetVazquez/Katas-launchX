{
 "cells": [
  {
   "cell_type": "markdown",
   "metadata": {},
   "source": [
    "# Crear y usar listas de Python\n",
    "\n",
    "# Ejercicio 1"
   ]
  },
  {
   "cell_type": "code",
   "execution_count": 9,
   "metadata": {},
   "outputs": [
    {
     "name": "stdout",
     "output_type": "stream",
     "text": [
      "Plutón es el último planeta de la lista\n"
     ]
    }
   ],
   "source": [
    "# lista de planetas\n",
    "planetas = ['Mercurio', 'Venus', 'Tierra', 'Marte', 'Jupiter', 'Saturno', 'Urano', 'Neptuno']\n",
    "\n",
    "# Agregando a plutón\n",
    "planetas.append('Plutón')\n",
    "print(planetas[-1], 'es el último planeta de la lista')"
   ]
  },
  {
   "cell_type": "markdown",
   "metadata": {},
   "source": [
    "# Ejercicio 2"
   ]
  },
  {
   "cell_type": "code",
   "execution_count": 22,
   "metadata": {},
   "outputs": [
    {
     "name": "stdout",
     "output_type": "stream",
     "text": [
      "Estos son los planetas más cercanos que el planeta Jupiter respecto al Sol\n",
      "['Mercurio', 'Venus', 'Tierra', 'Marte']\n",
      "Estos son los planetas más lejanos que el planeta Jupiter respecto al Sol\n",
      "['Saturno', 'Urano', 'Neptuno']\n"
     ]
    }
   ],
   "source": [
    "# lista de planetas\n",
    "planetas = ['Mercurio', 'Venus', 'Tierra', 'Marte', 'Jupiter', 'Saturno', 'Urano', 'Neptuno']\n",
    "\n",
    "# Solicitamos el nombre del planeta\n",
    "Planet_in = input('Ingresa el nombre del planeta en Español (recuerda usar mayúsuculas y minúsculas)')\n",
    "\n",
    "# Búsqueda del planeta\n",
    "planet_index = planetas.index(Planet_in)\n",
    "\n",
    "# Muestra los planetas más cercanos al Sol\n",
    "print('Estos son los planetas más cercanos que el planeta', Planet_in, 'respecto al Sol')\n",
    "print(planetas[0:planet_index])\n",
    "\n",
    "# Muestra los planetas más lejanos al Sol\n",
    "print('Estos son los planetas más lejanos que el planeta', Planet_in, 'respecto al Sol')\n",
    "print(planetas[planet_index + 1:])"
   ]
  }
 ],
 "metadata": {
  "interpreter": {
   "hash": "5028dd269c84411ba29d7810b380b926490729c25bc5eae4be143439412dbed1"
  },
  "kernelspec": {
   "display_name": "Python 3.10.1 64-bit",
   "language": "python",
   "name": "python3"
  },
  "language_info": {
   "codemirror_mode": {
    "name": "ipython",
    "version": 3
   },
   "file_extension": ".py",
   "mimetype": "text/x-python",
   "name": "python",
   "nbconvert_exporter": "python",
   "pygments_lexer": "ipython3",
   "version": "3.10.1"
  },
  "orig_nbformat": 4
 },
 "nbformat": 4,
 "nbformat_minor": 2
}
